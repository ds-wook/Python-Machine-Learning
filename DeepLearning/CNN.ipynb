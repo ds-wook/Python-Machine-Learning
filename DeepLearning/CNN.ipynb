{
 "cells": [
  {
   "cell_type": "code",
   "execution_count": 1,
   "metadata": {
    "scrolled": true
   },
   "outputs": [
    {
     "name": "stdout",
     "output_type": "stream",
     "text": [
      "WARNING:tensorflow:From <ipython-input-1-df6c3c653ca2>:3: read_data_sets (from tensorflow.contrib.learn.python.learn.datasets.mnist) is deprecated and will be removed in a future version.\n",
      "Instructions for updating:\n",
      "Please use alternatives such as official/mnist/dataset.py from tensorflow/models.\n",
      "WARNING:tensorflow:From C:\\ProgramData\\Anaconda3\\lib\\site-packages\\tensorflow\\contrib\\learn\\python\\learn\\datasets\\mnist.py:260: maybe_download (from tensorflow.contrib.learn.python.learn.datasets.base) is deprecated and will be removed in a future version.\n",
      "Instructions for updating:\n",
      "Please write your own downloading logic.\n",
      "WARNING:tensorflow:From C:\\ProgramData\\Anaconda3\\lib\\site-packages\\tensorflow\\contrib\\learn\\python\\learn\\datasets\\mnist.py:262: extract_images (from tensorflow.contrib.learn.python.learn.datasets.mnist) is deprecated and will be removed in a future version.\n",
      "Instructions for updating:\n",
      "Please use tf.data to implement this functionality.\n",
      "Extracting ./mnist/data/train-images-idx3-ubyte.gz\n",
      "WARNING:tensorflow:From C:\\ProgramData\\Anaconda3\\lib\\site-packages\\tensorflow\\contrib\\learn\\python\\learn\\datasets\\mnist.py:267: extract_labels (from tensorflow.contrib.learn.python.learn.datasets.mnist) is deprecated and will be removed in a future version.\n",
      "Instructions for updating:\n",
      "Please use tf.data to implement this functionality.\n",
      "Extracting ./mnist/data/train-labels-idx1-ubyte.gz\n",
      "WARNING:tensorflow:From C:\\ProgramData\\Anaconda3\\lib\\site-packages\\tensorflow\\contrib\\learn\\python\\learn\\datasets\\mnist.py:110: dense_to_one_hot (from tensorflow.contrib.learn.python.learn.datasets.mnist) is deprecated and will be removed in a future version.\n",
      "Instructions for updating:\n",
      "Please use tf.one_hot on tensors.\n",
      "Extracting ./mnist/data/t10k-images-idx3-ubyte.gz\n",
      "Extracting ./mnist/data/t10k-labels-idx1-ubyte.gz\n",
      "WARNING:tensorflow:From C:\\ProgramData\\Anaconda3\\lib\\site-packages\\tensorflow\\contrib\\learn\\python\\learn\\datasets\\mnist.py:290: DataSet.__init__ (from tensorflow.contrib.learn.python.learn.datasets.mnist) is deprecated and will be removed in a future version.\n",
      "Instructions for updating:\n",
      "Please use alternatives such as official/mnist/dataset.py from tensorflow/models.\n"
     ]
    }
   ],
   "source": [
    "import tensorflow as tf\n",
    "from tensorflow.examples.tutorials.mnist import input_data\n",
    "mnist = input_data.read_data_sets(\"./mnist/data/\", one_hot=True)"
   ]
  },
  {
   "cell_type": "markdown",
   "metadata": {},
   "source": [
    "# 신경망 모델 구성하기"
   ]
  },
  {
   "cell_type": "code",
   "execution_count": 2,
   "metadata": {},
   "outputs": [],
   "source": [
    "X = tf.placeholder(tf.float32, [None, 28, 28, 1])\n",
    "Y = tf.placeholder(tf.float32, [None, 10])\n",
    "keep_prob = tf.placeholder(tf.float32)"
   ]
  },
  {
   "cell_type": "code",
   "execution_count": 3,
   "metadata": {},
   "outputs": [
    {
     "name": "stdout",
     "output_type": "stream",
     "text": [
      "WARNING:tensorflow:From C:\\ProgramData\\Anaconda3\\lib\\site-packages\\tensorflow\\python\\framework\\op_def_library.py:263: colocate_with (from tensorflow.python.framework.ops) is deprecated and will be removed in a future version.\n",
      "Instructions for updating:\n",
      "Colocations handled automatically by placer.\n"
     ]
    }
   ],
   "source": [
    "# 16개의 필터를 가진 4 x 4 크기의 컨볼루션 계층을 정의함\n",
    "W1 = tf.Variable(tf.random_normal([4, 4, 1, 16], stddev = 0.01))\n",
    "# 필터를 슬라이딩 할 때 한 칸씩 슬라이딩을 수행함\n",
    "L1 = tf.nn.conv2d(X, W1, strides = [1, 1, 1, 1] ,padding = \"SAME\")\n",
    "L1 = tf.nn.relu(L1)"
   ]
  },
  {
   "cell_type": "code",
   "execution_count": 4,
   "metadata": {},
   "outputs": [],
   "source": [
    "# 2 x 2 크기의 풀링 계층을 정의함\n",
    "# 슬라이딩을 수행할 때 두 칸씩 슬라이딩을 수행함\n",
    "L1 = tf.nn.max_pool(L1, ksize = [1, 2, 2, 1], strides = [1, 2, 2, 1], padding = \"SAME\")"
   ]
  },
  {
   "cell_type": "code",
   "execution_count": 5,
   "metadata": {},
   "outputs": [],
   "source": [
    "# 32개의 필터를 가진 4 x 4 크기의 컨볼루션 계층을 정의\n",
    "W2 = tf.Variable(tf.random_normal([4, 4, 16, 32], stddev = 0.01))\n",
    "#필터를 슬라이딩 할 때 한 칸씩 슬라이딩을 수행합니다.\n",
    "L2 = tf.nn.conv2d(L1, W2, strides = [1, 1, 1, 1], padding = \"SAME\")\n",
    "L2 = tf.nn.relu(L2)"
   ]
  },
  {
   "cell_type": "code",
   "execution_count": 6,
   "metadata": {},
   "outputs": [],
   "source": [
    "# 2 x 2 크기의 풀링 계층을 정의\n",
    "# 슬라이딩 수행할 때 두 칸씩 슬라이딩 수행\n",
    "L2 = tf.nn.max_pool(L2, ksize = [1, 2, 2, 1], strides = [1, 2, 2, 1], padding = \"SAME\")"
   ]
  },
  {
   "cell_type": "code",
   "execution_count": 7,
   "metadata": {},
   "outputs": [],
   "source": [
    "# 2 x 2 크기의 풀링을 두 번 해서 28 / 4 = 7 의 높이와 너비를 가짐\n",
    "W3 = tf.Variable(tf.random_normal([7 * 7 * 32, 256], stddev = 0.01))\n",
    "# 1차원 배열로 설정\n",
    "L3 = tf.reshape(L2, [-1, 7 * 7 *32])\n",
    "# 은닉층으로 256개의 뉴런으로 연결\n",
    "L3 = tf.matmul(L3, W3)\n",
    "L3 = tf.nn.relu(L3)"
   ]
  },
  {
   "cell_type": "code",
   "execution_count": 8,
   "metadata": {},
   "outputs": [
    {
     "name": "stdout",
     "output_type": "stream",
     "text": [
      "WARNING:tensorflow:From <ipython-input-8-f1aa8548a6d7>:2: calling dropout (from tensorflow.python.ops.nn_ops) with keep_prob is deprecated and will be removed in a future version.\n",
      "Instructions for updating:\n",
      "Please use `rate` instead of `keep_prob`. Rate should be set to `rate = 1 - keep_prob`.\n"
     ]
    }
   ],
   "source": [
    "#과적합 막기 위해 드롭아웃 기법 수행\n",
    "L3 = tf.nn.dropout(L3, keep_prob)"
   ]
  },
  {
   "cell_type": "code",
   "execution_count": 9,
   "metadata": {},
   "outputs": [],
   "source": [
    "# 은닉층 256개의 뉴런을 입력으로 10개의 분류를 만듬\n",
    "W4 = tf.Variable(tf.random_normal([256, 10], stddev = 0.01))\n",
    "model = tf.matmul(L3, W4)"
   ]
  },
  {
   "cell_type": "code",
   "execution_count": 10,
   "metadata": {},
   "outputs": [
    {
     "name": "stdout",
     "output_type": "stream",
     "text": [
      "WARNING:tensorflow:From <ipython-input-10-3aab600560c0>:2: softmax_cross_entropy_with_logits (from tensorflow.python.ops.nn_ops) is deprecated and will be removed in a future version.\n",
      "Instructions for updating:\n",
      "\n",
      "Future major versions of TensorFlow will allow gradients to flow\n",
      "into the labels input on backprop by default.\n",
      "\n",
      "See `tf.nn.softmax_cross_entropy_with_logits_v2`.\n",
      "\n"
     ]
    }
   ],
   "source": [
    "# 비용 함수를 이용해 최적화를 수행\n",
    "cost = tf.reduce_mean(tf.nn.softmax_cross_entropy_with_logits(logits = model, labels = Y))\n",
    "optimizer = tf.train.AdamOptimizer(0.001).minimize(cost)"
   ]
  },
  {
   "cell_type": "code",
   "execution_count": 11,
   "metadata": {},
   "outputs": [],
   "source": [
    "# 비용 함수를 이용해 최적화를 수행\n",
    "cost = tf.reduce_mean(tf.nn.softmax_cross_entropy_with_logits(logits = model, labels = Y))\n",
    "optimizer = tf.train.AdamOptimizer(0.001).minimize(cost)"
   ]
  },
  {
   "cell_type": "code",
   "execution_count": 12,
   "metadata": {},
   "outputs": [],
   "source": [
    "# 정확도\n",
    "is_correct = tf.equal(tf.argmax(model, 1), tf.argmax(Y, 1))\n",
    "accuracy = tf.reduce_mean(tf.cast(is_correct, tf.float32))"
   ]
  },
  {
   "cell_type": "markdown",
   "metadata": {},
   "source": [
    "# 신경망 모델 학습하기"
   ]
  },
  {
   "cell_type": "code",
   "execution_count": 15,
   "metadata": {},
   "outputs": [
    {
     "name": "stdout",
     "output_type": "stream",
     "text": [
      "반복 : 1, 평균 비용 : 0.2571\n",
      "반복 : 2, 평균 비용 : 0.0784\n",
      "반복 : 3, 평균 비용 : 0.0538\n",
      "반복 : 4, 평균 비용 : 0.0416\n",
      "반복 : 5, 평균 비용 : 0.0296\n",
      "반복 : 6, 평균 비용 : 0.0263\n",
      "반복 : 7, 평균 비용 : 0.0207\n",
      "반복 : 8, 평균 비용 : 0.0164\n",
      "반복 : 9, 평균 비용 : 0.0146\n",
      "반복 : 10, 평균 비용 : 0.0126\n",
      "정확도: 0.9907\n"
     ]
    }
   ],
   "source": [
    "# 세션을 이용해 학습 수행\n",
    "init = tf.global_variables_initializer()\n",
    "sess = tf.Session()\n",
    "#텐서보드에서 학습 기록\n",
    "cost_scalar = tf.summary.scalar(\"cost\", cost)\n",
    "accuracy_scalar = tf.summary.scalar(\"accuracy\", accuracy)\n",
    "\n",
    "merged = tf.summary.merge([cost_scalar, accuracy_scalar])\n",
    "writer = tf.summary.FileWriter(\"./logs\", sess.graph)\n",
    "\n",
    "sess.run(init)\n",
    "\n",
    "#배치 크기를 100으로 설정\n",
    "batch_size = 100\n",
    "total_batch = int(mnist.train.num_examples / batch_size)\n",
    "\n",
    "\n",
    "# 총 10번 학습 데이터를 반복\n",
    "for epoch in range(10):\n",
    "    total_cost = 0\n",
    "\n",
    "    for i in range(total_batch):\n",
    "        batch_x, batch_y = mnist.train.next_batch(batch_size)\n",
    "        batch_x = batch_x.reshape(-1, 28, 28, 1)\n",
    "        _, cost_val = sess.run([optimizer, cost], feed_dict={X : batch_x, Y : batch_y, keep_prob : 0.8})\n",
    "        summary,_ = sess.run([merged, optimizer], feed_dict={X: batch_x, Y: batch_y, keep_prob : 0.8})\n",
    "        writer.add_summary(summary, i)\n",
    "        total_cost += cost_val\n",
    "    print(\"반복 : {}, 평균 비용 : {:.4f}\".format(epoch + 1, total_cost / total_batch))\n",
    "    \n",
    "print(\"정확도:\", sess.run(accuracy, feed_dict = {X : mnist.test.images.reshape(-1, 28, 28, 1), Y : mnist.test.labels, keep_prob : 1}))"
   ]
  },
  {
   "cell_type": "code",
   "execution_count": null,
   "metadata": {},
   "outputs": [],
   "source": []
  }
 ],
 "metadata": {
  "kernelspec": {
   "display_name": "Python 3",
   "language": "python",
   "name": "python3"
  },
  "language_info": {
   "codemirror_mode": {
    "name": "ipython",
    "version": 3
   },
   "file_extension": ".py",
   "mimetype": "text/x-python",
   "name": "python",
   "nbconvert_exporter": "python",
   "pygments_lexer": "ipython3",
   "version": "3.7.1"
  }
 },
 "nbformat": 4,
 "nbformat_minor": 2
}
