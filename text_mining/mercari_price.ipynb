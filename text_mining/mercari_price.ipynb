{
  "nbformat": 4,
  "nbformat_minor": 0,
  "metadata": {
    "colab": {
      "name": "mercari_price.ipynb",
      "provenance": [],
      "collapsed_sections": []
    },
    "kernelspec": {
      "name": "python3",
      "display_name": "Python 3"
    },
    "accelerator": "GPU"
  },
  "cells": [
    {
      "cell_type": "code",
      "metadata": {
        "id": "mseejsqTCNMT",
        "colab_type": "code",
        "outputId": "bd79a3d8-9873-455a-9e6e-236737b2b7f4",
        "colab": {
          "base_uri": "https://localhost:8080/",
          "height": 34
        }
      },
      "source": [
        "from google.colab import auth\n",
        "auth.authenticate_user()\n",
        "\n",
        "from google.colab import drive\n",
        "drive.mount(\"/content/drive\")"
      ],
      "execution_count": 1,
      "outputs": [
        {
          "output_type": "stream",
          "text": [
            "Drive already mounted at /content/drive; to attempt to forcibly remount, call drive.mount(\"/content/drive\", force_remount=True).\n"
          ],
          "name": "stdout"
        }
      ]
    },
    {
      "cell_type": "code",
      "metadata": {
        "id": "bDQmRdlFG3qe",
        "colab_type": "code",
        "outputId": "7327aa66-fd3b-47d3-b3e7-88c3493dc7f5",
        "colab": {
          "base_uri": "https://localhost:8080/",
          "height": 52
        }
      },
      "source": [
        "!cd \"/content/drive/My Drive/data\"; ls -l"
      ],
      "execution_count": 2,
      "outputs": [
        {
          "output_type": "stream",
          "text": [
            "total 329893\n",
            "-rw------- 1 root root 337809843 Feb 23 04:01 mercari_train.tsv\n"
          ],
          "name": "stdout"
        }
      ]
    },
    {
      "cell_type": "markdown",
      "metadata": {
        "id": "sOx93NaGIU_B",
        "colab_type": "text"
      },
      "source": [
        "# 데이터 전처리"
      ]
    },
    {
      "cell_type": "code",
      "metadata": {
        "id": "kOLllus0IXDR",
        "colab_type": "code",
        "outputId": "c0ce0d85-085b-4aff-aa4a-3daa2c24f6be",
        "colab": {
          "base_uri": "https://localhost:8080/",
          "height": 154
        }
      },
      "source": [
        "from sklearn.linear_model import Ridge, LogisticRegression\n",
        "from sklearn.model_selection import train_test_split, cross_val_score\n",
        "from sklearn.feature_extraction.text import CountVectorizer, TfidfVectorizer\n",
        "import pandas as pd\n",
        "\n",
        "mercari_df = pd.read_csv(\"/content/drive/My Drive/data/mercari_train.tsv\", sep = \"\\t\")\n",
        "print(mercari_df.shape)\n",
        "mercari_df.head(3)"
      ],
      "execution_count": 3,
      "outputs": [
        {
          "output_type": "stream",
          "text": [
            "(1482535, 8)\n"
          ],
          "name": "stdout"
        },
        {
          "output_type": "execute_result",
          "data": {
            "text/html": [
              "<div>\n",
              "<style scoped>\n",
              "    .dataframe tbody tr th:only-of-type {\n",
              "        vertical-align: middle;\n",
              "    }\n",
              "\n",
              "    .dataframe tbody tr th {\n",
              "        vertical-align: top;\n",
              "    }\n",
              "\n",
              "    .dataframe thead th {\n",
              "        text-align: right;\n",
              "    }\n",
              "</style>\n",
              "<table border=\"1\" class=\"dataframe\">\n",
              "  <thead>\n",
              "    <tr style=\"text-align: right;\">\n",
              "      <th></th>\n",
              "      <th>train_id</th>\n",
              "      <th>name</th>\n",
              "      <th>item_condition_id</th>\n",
              "      <th>category_name</th>\n",
              "      <th>brand_name</th>\n",
              "      <th>price</th>\n",
              "      <th>shipping</th>\n",
              "      <th>item_description</th>\n",
              "    </tr>\n",
              "  </thead>\n",
              "  <tbody>\n",
              "    <tr>\n",
              "      <th>0</th>\n",
              "      <td>0</td>\n",
              "      <td>MLB Cincinnati Reds T Shirt Size XL</td>\n",
              "      <td>3</td>\n",
              "      <td>Men/Tops/T-shirts</td>\n",
              "      <td>NaN</td>\n",
              "      <td>10.0</td>\n",
              "      <td>1</td>\n",
              "      <td>No description yet</td>\n",
              "    </tr>\n",
              "    <tr>\n",
              "      <th>1</th>\n",
              "      <td>1</td>\n",
              "      <td>Razer BlackWidow Chroma Keyboard</td>\n",
              "      <td>3</td>\n",
              "      <td>Electronics/Computers &amp; Tablets/Components &amp; P...</td>\n",
              "      <td>Razer</td>\n",
              "      <td>52.0</td>\n",
              "      <td>0</td>\n",
              "      <td>This keyboard is in great condition and works ...</td>\n",
              "    </tr>\n",
              "    <tr>\n",
              "      <th>2</th>\n",
              "      <td>2</td>\n",
              "      <td>AVA-VIV Blouse</td>\n",
              "      <td>1</td>\n",
              "      <td>Women/Tops &amp; Blouses/Blouse</td>\n",
              "      <td>Target</td>\n",
              "      <td>10.0</td>\n",
              "      <td>1</td>\n",
              "      <td>Adorable top with a hint of lace and a key hol...</td>\n",
              "    </tr>\n",
              "  </tbody>\n",
              "</table>\n",
              "</div>"
            ],
            "text/plain": [
              "   train_id  ...                                   item_description\n",
              "0         0  ...                                 No description yet\n",
              "1         1  ...  This keyboard is in great condition and works ...\n",
              "2         2  ...  Adorable top with a hint of lace and a key hol...\n",
              "\n",
              "[3 rows x 8 columns]"
            ]
          },
          "metadata": {
            "tags": []
          },
          "execution_count": 3
        }
      ]
    },
    {
      "cell_type": "markdown",
      "metadata": {
        "id": "twQF-G1mI6py",
        "colab_type": "text"
      },
      "source": [
        "* train_id: 데이터 id\n",
        "* name: 제품명\n",
        "* item_condition_id: 판매자가 제공하는 제품 상태\n",
        "* category_name: 카테고리 명\n",
        "* brand_name: 브랜드 이름\n",
        "* price: 제품 가격. 예측을 위한 타깃 속성\n",
        "* shipping: 배송비 무료 여부. 1이면 무료(판매자가 지불), 0이면 유료(구매자 지불)\n",
        "* item_description: 제품에 대한 설명"
      ]
    },
    {
      "cell_type": "code",
      "metadata": {
        "id": "d7DdmVKEN0ns",
        "colab_type": "code",
        "colab": {
          "base_uri": "https://localhost:8080/",
          "height": 263
        },
        "outputId": "747f6b07-08d0-4c25-b012-2fb78f7a594c"
      },
      "source": [
        "print(mercari_df.info())"
      ],
      "execution_count": 4,
      "outputs": [
        {
          "output_type": "stream",
          "text": [
            "<class 'pandas.core.frame.DataFrame'>\n",
            "RangeIndex: 1482535 entries, 0 to 1482534\n",
            "Data columns (total 8 columns):\n",
            "train_id             1482535 non-null int64\n",
            "name                 1482535 non-null object\n",
            "item_condition_id    1482535 non-null int64\n",
            "category_name        1476208 non-null object\n",
            "brand_name           849853 non-null object\n",
            "price                1482535 non-null float64\n",
            "shipping             1482535 non-null int64\n",
            "item_description     1482531 non-null object\n",
            "dtypes: float64(1), int64(3), object(4)\n",
            "memory usage: 90.5+ MB\n",
            "None\n"
          ],
          "name": "stdout"
        }
      ]
    },
    {
      "cell_type": "code",
      "metadata": {
        "id": "s4yo3uLnOE4Z",
        "colab_type": "code",
        "colab": {
          "base_uri": "https://localhost:8080/",
          "height": 300
        },
        "outputId": "aa3e7d11-7856-4573-89f3-c8e8bdc8c23a"
      },
      "source": [
        "import matplotlib.pyplot as plt\n",
        "import seaborn as sns\n",
        "%matplotlib inline\n",
        "plt.style.use(\"ggplot\")\n",
        "y_train = mercari_df[\"price\"]\n",
        "plt.figure(figsize = (6, 4))\n",
        "sns.distplot(y_train, kde = False)"
      ],
      "execution_count": 5,
      "outputs": [
        {
          "output_type": "execute_result",
          "data": {
            "text/plain": [
              "<matplotlib.axes._subplots.AxesSubplot at 0x7fb8f3d68630>"
            ]
          },
          "metadata": {
            "tags": []
          },
          "execution_count": 5
        },
        {
          "output_type": "display_data",
          "data": {
            "image/png": "[encoded data removed]",
            "text/plain": [
              "<Figure size 432x288 with 1 Axes>"
            ]
          },
          "metadata": {
            "tags": []
          }
        }
      ]
    },
    {
      "cell_type": "markdown",
      "metadata": {
        "id": "oomOJrCXOv6e",
        "colab_type": "text"
      },
      "source": [
        "# 타겟값 로그 변환 후 분포도 확인"
      ]
    },
    {
      "cell_type": "code",
      "metadata": {
        "id": "8PI5JUhZO76u",
        "colab_type": "code",
        "colab": {
          "base_uri": "https://localhost:8080/",
          "height": 300
        },
        "outputId": "f3b01fc9-b0d8-48df-cbcb-8eabd4110c5d"
      },
      "source": [
        "import numpy as np\n",
        "\n",
        "y_train = np.log1p(y_train)\n",
        "sns.distplot(y_train, kde = False)"
      ],
      "execution_count": 6,
      "outputs": [
        {
          "output_type": "execute_result",
          "data": {
            "text/plain": [
              "<matplotlib.axes._subplots.AxesSubplot at 0x7fb8f3d68198>"
            ]
          },
          "metadata": {
            "tags": []
          },
          "execution_count": 6
        },
        {
          "output_type": "display_data",
          "data": {
            "image/png": "[encoded data removed]",
            "text/plain": [
              "<Figure size 432x288 with 1 Axes>"
            ]
          },
          "metadata": {
            "tags": []
          }
        }
      ]
    },
    {
      "cell_type": "code",
      "metadata": {
        "id": "NhYjDHDgPAeP",
        "colab_type": "code",
        "colab": {
          "base_uri": "https://localhost:8080/",
          "height": 122
        },
        "outputId": "dc94e588-3078-4f88-ff33-861b4aa4157c"
      },
      "source": [
        "mercari_df[\"price\"] = np.log1p(mercari_df[\"price\"])\n",
        "mercari_df[\"price\"].head()"
      ],
      "execution_count": 7,
      "outputs": [
        {
          "output_type": "execute_result",
          "data": {
            "text/plain": [
              "0    2.397895\n",
              "1    3.970292\n",
              "2    2.397895\n",
              "3    3.583519\n",
              "4    3.806662\n",
              "Name: price, dtype: float64"
            ]
          },
          "metadata": {
            "tags": []
          },
          "execution_count": 7
        }
      ]
    },
    {
      "cell_type": "code",
      "metadata": {
        "id": "QVuH98kMPEdu",
        "colab_type": "code",
        "colab": {
          "base_uri": "https://localhost:8080/",
          "height": 228
        },
        "outputId": "0ee8ec25-a1b5-410a-951e-5a83b330b5e4"
      },
      "source": [
        "print(\"Shipping 값 유형 : \\n\", mercari_df[\"shipping\"].value_counts())\n",
        "print()\n",
        "print(\"item_condition_id 값 유형 : \\n\", mercari_df[\"item_condition_id\"].value_counts())"
      ],
      "execution_count": 8,
      "outputs": [
        {
          "output_type": "stream",
          "text": [
            "Shipping 값 유형 : \n",
            " 0    819435\n",
            "1    663100\n",
            "Name: shipping, dtype: int64\n",
            "\n",
            "item_condition_id 값 유형 : \n",
            " 1    640549\n",
            "3    432161\n",
            "2    375479\n",
            "4     31962\n",
            "5      2384\n",
            "Name: item_condition_id, dtype: int64\n"
          ],
          "name": "stdout"
        }
      ]
    },
    {
      "cell_type": "code",
      "metadata": {
        "id": "tgb_KRoFPjpU",
        "colab_type": "code",
        "colab": {
          "base_uri": "https://localhost:8080/",
          "height": 34
        },
        "outputId": "70a838e6-f9e4-4e0b-f048-3bbd3c541253"
      },
      "source": [
        "condition = mercari_df[\"item_description\"] == \"No description yet\"\n",
        "mercari_df[condition][\"item_description\"].count()"
      ],
      "execution_count": 9,
      "outputs": [
        {
          "output_type": "execute_result",
          "data": {
            "text/plain": [
              "82489"
            ]
          },
          "metadata": {
            "tags": []
          },
          "execution_count": 9
        }
      ]
    },
    {
      "cell_type": "code",
      "metadata": {
        "id": "4pURgzoRP0k1",
        "colab_type": "code",
        "colab": {
          "base_uri": "https://localhost:8080/",
          "height": 281
        },
        "outputId": "88e86b7a-cbe7-4866-ffbb-e1cba3696ef9"
      },
      "source": [
        "# apply lambda에서 호출되는 대, 중, 소 분할 함수 생성, 대, 중, 소 값을 리스트 반환\n",
        "def split_cat(category_name):\n",
        "  try:\n",
        "    return category_name.split(\"/\")\n",
        "  except:\n",
        "    return [\"Other_Null\", \"Other_Null\", \"Other_Null\"]\n",
        "  \n",
        "# 위의 split_cat()을 apply lambda에서 호출 하여 대, 중, 소 컬럼을 mercari_df에 생성\n",
        "mercari_df[\"cat_dae\"], mercari_df[\"cat_jung\"], mercari_df[\"cat_so\"] = zip(*mercari_df[\"category_name\"].apply(lambda x: split_cat(x)))\n",
        "\n",
        "# 대분류만 값의 유형과 건수를 살펴보고, 중분류, 소분류는 값의 유형이 많으므로 분류 갯수만 추출\n",
        "print(\"대분류 유형 : \\n\", mercari_df[\"cat_dae\"].value_counts)\n",
        "print(\"중분류 갯수 : \", mercari_df[\"cat_jung\"].nunique())\n",
        "print(\"소분류 갯수 : \", mercari_df[\"cat_so\"].nunique())"
      ],
      "execution_count": 10,
      "outputs": [
        {
          "output_type": "stream",
          "text": [
            "대분류 유형 : \n",
            " <bound method IndexOpsMixin.value_counts of 0                        Men\n",
            "1                Electronics\n",
            "2                      Women\n",
            "3                       Home\n",
            "4                      Women\n",
            "                 ...        \n",
            "1482530                Women\n",
            "1482531                 Kids\n",
            "1482532    Sports & Outdoors\n",
            "1482533                 Home\n",
            "1482534                Women\n",
            "Name: cat_dae, Length: 1482535, dtype: object>\n",
            "중분류 갯수 :  114\n",
            "소분류 갯수 :  871\n"
          ],
          "name": "stdout"
        }
      ]
    },
    {
      "cell_type": "code",
      "metadata": {
        "id": "6l3JOVXHQNbn",
        "colab_type": "code",
        "colab": {
          "base_uri": "https://localhost:8080/",
          "height": 122
        },
        "outputId": "80e39333-1ce6-4d43-ade4-13e07f13f7e5"
      },
      "source": [
        "# 위의 split_cat()을 apply lambda에서 호출하여 대, 중, 소 컬럼을 mercar_df에 생성\n",
        "mercari_df[\"category_list\"] = mercari_df[\"category_name\"].apply(lambda x : split_cat(x))\n",
        "mercari_df[\"category_list\"].head()"
      ],
      "execution_count": 11,
      "outputs": [
        {
          "output_type": "execute_result",
          "data": {
            "text/plain": [
              "0                                [Men, Tops, T-shirts]\n",
              "1    [Electronics, Computers & Tablets, Components ...\n",
              "2                      [Women, Tops & Blouses, Blouse]\n",
              "3               [Home, Home Décor, Home Décor Accents]\n",
              "4                          [Women, Jewelry, Necklaces]\n",
              "Name: category_list, dtype: object"
            ]
          },
          "metadata": {
            "tags": []
          },
          "execution_count": 11
        }
      ]
    },
    {
      "cell_type": "code",
      "metadata": {
        "id": "h6rlmKaPSrDQ",
        "colab_type": "code",
        "colab": {
          "base_uri": "https://localhost:8080/",
          "height": 195
        },
        "outputId": "67b29c12-f5d0-4d9b-8526-2b64361db3b3"
      },
      "source": [
        "mercari_df[\"cat_dae\"] = mercari_df[\"category_list\"].apply(lambda x : x[0])\n",
        "mercari_df[\"cat_jung\"] = mercari_df[\"category_list\"].apply(lambda x : x[1])\n",
        "mercari_df[\"cat_so\"] = mercari_df[\"category_list\"].apply(lambda x : x[2])\n",
        "mercari_df[[\"cat_dae\", \"cat_jung\", \"cat_so\"]].head()"
      ],
      "execution_count": 12,
      "outputs": [
        {
          "output_type": "execute_result",
          "data": {
            "text/html": [
              "<div>\n",
              "<style scoped>\n",
              "    .dataframe tbody tr th:only-of-type {\n",
              "        vertical-align: middle;\n",
              "    }\n",
              "\n",
              "    .dataframe tbody tr th {\n",
              "        vertical-align: top;\n",
              "    }\n",
              "\n",
              "    .dataframe thead th {\n",
              "        text-align: right;\n",
              "    }\n",
              "</style>\n",
              "<table border=\"1\" class=\"dataframe\">\n",
              "  <thead>\n",
              "    <tr style=\"text-align: right;\">\n",
              "      <th></th>\n",
              "      <th>cat_dae</th>\n",
              "      <th>cat_jung</th>\n",
              "      <th>cat_so</th>\n",
              "    </tr>\n",
              "  </thead>\n",
              "  <tbody>\n",
              "    <tr>\n",
              "      <th>0</th>\n",
              "      <td>Men</td>\n",
              "      <td>Tops</td>\n",
              "      <td>T-shirts</td>\n",
              "    </tr>\n",
              "    <tr>\n",
              "      <th>1</th>\n",
              "      <td>Electronics</td>\n",
              "      <td>Computers &amp; Tablets</td>\n",
              "      <td>Components &amp; Parts</td>\n",
              "    </tr>\n",
              "    <tr>\n",
              "      <th>2</th>\n",
              "      <td>Women</td>\n",
              "      <td>Tops &amp; Blouses</td>\n",
              "      <td>Blouse</td>\n",
              "    </tr>\n",
              "    <tr>\n",
              "      <th>3</th>\n",
              "      <td>Home</td>\n",
              "      <td>Home Décor</td>\n",
              "      <td>Home Décor Accents</td>\n",
              "    </tr>\n",
              "    <tr>\n",
              "      <th>4</th>\n",
              "      <td>Women</td>\n",
              "      <td>Jewelry</td>\n",
              "      <td>Necklaces</td>\n",
              "    </tr>\n",
              "  </tbody>\n",
              "</table>\n",
              "</div>"
            ],
            "text/plain": [
              "       cat_dae             cat_jung              cat_so\n",
              "0          Men                 Tops            T-shirts\n",
              "1  Electronics  Computers & Tablets  Components & Parts\n",
              "2        Women       Tops & Blouses              Blouse\n",
              "3         Home           Home Décor  Home Décor Accents\n",
              "4        Women              Jewelry           Necklaces"
            ]
          },
          "metadata": {
            "tags": []
          },
          "execution_count": 12
        }
      ]
    },
    {
      "cell_type": "code",
      "metadata": {
        "id": "CBcJ6qY6Utoe",
        "colab_type": "code",
        "colab": {}
      },
      "source": [
        "mercari_df.drop(\"category_list\", axis = 1, inplace=True)"
      ],
      "execution_count": 0,
      "outputs": []
    },
    {
      "cell_type": "code",
      "metadata": {
        "id": "y8Wu9YvFVdyo",
        "colab_type": "code",
        "colab": {}
      },
      "source": [
        "mercari_df[\"brand_name\"].fillna(\"Other_Null\", inplace = True)\n",
        "mercari_df[\"category_name\"].fillna(\"Other_Null\", inplace = True)\n",
        "mercari_df[\"item_description\"].fillna(\"Other_Null\",inplace = True)"
      ],
      "execution_count": 0,
      "outputs": []
    },
    {
      "cell_type": "code",
      "metadata": {
        "id": "_DGBsHorWJ_n",
        "colab_type": "code",
        "colab": {
          "base_uri": "https://localhost:8080/",
          "height": 298
        },
        "outputId": "cc60e9af-c2c5-4f47-f03d-a7edcd669448"
      },
      "source": [
        "mercari_df.info()"
      ],
      "execution_count": 15,
      "outputs": [
        {
          "output_type": "stream",
          "text": [
            "<class 'pandas.core.frame.DataFrame'>\n",
            "RangeIndex: 1482535 entries, 0 to 1482534\n",
            "Data columns (total 11 columns):\n",
            "train_id             1482535 non-null int64\n",
            "name                 1482535 non-null object\n",
            "item_condition_id    1482535 non-null int64\n",
            "category_name        1482535 non-null object\n",
            "brand_name           1482535 non-null object\n",
            "price                1482535 non-null float64\n",
            "shipping             1482535 non-null int64\n",
            "item_description     1482535 non-null object\n",
            "cat_dae              1482535 non-null object\n",
            "cat_jung             1482535 non-null object\n",
            "cat_so               1482535 non-null object\n",
            "dtypes: float64(1), int64(3), object(7)\n",
            "memory usage: 124.4+ MB\n"
          ],
          "name": "stdout"
        }
      ]
    },
    {
      "cell_type": "code",
      "metadata": {
        "id": "ZGzZV7RcWNVS",
        "colab_type": "code",
        "colab": {
          "base_uri": "https://localhost:8080/",
          "height": 158
        },
        "outputId": "8f26001f-28c8-4cfa-eec5-41621f243c51"
      },
      "source": [
        "print(\"brand name의 유형 건수 : \", mercari_df[\"brand_name\"].nunique())\n",
        "print(\"brand name sample 5건 : \\n\", mercari_df[\"brand_name\"].value_counts()[:5])"
      ],
      "execution_count": 16,
      "outputs": [
        {
          "output_type": "stream",
          "text": [
            "brand name의 유형 건수 :  4810\n",
            "brand name sample 5건 : \n",
            " Other_Null           632682\n",
            "PINK                  54088\n",
            "Nike                  54043\n",
            "Victoria's Secret     48036\n",
            "LuLaRoe               31024\n",
            "Name: brand_name, dtype: int64\n"
          ],
          "name": "stdout"
        }
      ]
    },
    {
      "cell_type": "code",
      "metadata": {
        "id": "vOH2CxpzWlLq",
        "colab_type": "code",
        "colab": {
          "base_uri": "https://localhost:8080/",
          "height": 193
        },
        "outputId": "13783134-7fd6-4c8f-d7c6-afafdf740253"
      },
      "source": [
        "print(\"name의 종류 갯수 : \", mercari_df[\"name\"].nunique())\n",
        "print(\"name sample 7건 : \\n\", mercari_df[\"name\"][:7])"
      ],
      "execution_count": 17,
      "outputs": [
        {
          "output_type": "stream",
          "text": [
            "name의 종류 갯수 :  1225273\n",
            "name sample 7건 : \n",
            " 0    MLB Cincinnati Reds T Shirt Size XL\n",
            "1       Razer BlackWidow Chroma Keyboard\n",
            "2                         AVA-VIV Blouse\n",
            "3                  Leather Horse Statues\n",
            "4                   24K GOLD plated rose\n",
            "5       Bundled items requested for Ruie\n",
            "6     Acacia pacific tides santorini top\n",
            "Name: name, dtype: object\n"
          ],
          "name": "stdout"
        }
      ]
    },
    {
      "cell_type": "code",
      "metadata": {
        "id": "T9wH2chPWwCG",
        "colab_type": "code",
        "colab": {
          "base_uri": "https://localhost:8080/",
          "height": 87
        },
        "outputId": "8e21bdca-6fe8-42ba-d3f0-f9ece7542a49"
      },
      "source": [
        "pd.set_option(\"max_colwidth\", 200)\n",
        "\n",
        "# item_description의 평균 문자열 개수\n",
        "print(\"item_description 평균 문자열 개수 : \", mercari_df[\"item_description\"].str.len().mean())\n",
        "mercari_df[\"item_description\"][:2]"
      ],
      "execution_count": 18,
      "outputs": [
        {
          "output_type": "stream",
          "text": [
            "item_description 평균 문자열 개수 :  145.7113889385411\n"
          ],
          "name": "stdout"
        },
        {
          "output_type": "execute_result",
          "data": {
            "text/plain": [
              "0                                                                                                                                                                              No description yet\n",
              "1    This keyboard is in great condition and works like it came out of the box. All of the ports are tested and work perfectly. The lights are customizable via the Razer Synapse app on your PC.\n",
              "Name: item_description, dtype: object"
            ]
          },
          "metadata": {
            "tags": []
          },
          "execution_count": 18
        }
      ]
    },
    {
      "cell_type": "code",
      "metadata": {
        "id": "Dx48IBKHXYZ4",
        "colab_type": "code",
        "colab": {
          "base_uri": "https://localhost:8080/",
          "height": 34
        },
        "outputId": "625e408b-5c9b-4ace-87a8-5200441b2520"
      },
      "source": [
        "import gc\n",
        "gc.collect()"
      ],
      "execution_count": 19,
      "outputs": [
        {
          "output_type": "execute_result",
          "data": {
            "text/plain": [
              "11"
            ]
          },
          "metadata": {
            "tags": []
          },
          "execution_count": 19
        }
      ]
    },
    {
      "cell_type": "markdown",
      "metadata": {
        "id": "GfFg_LRWXyPQ",
        "colab_type": "text"
      },
      "source": [
        "# name은 Count, item_description은 TF-IDF로 피처 벡터화"
      ]
    },
    {
      "cell_type": "code",
      "metadata": {
        "id": "E0ODjuOaX8kf",
        "colab_type": "code",
        "colab": {
          "base_uri": "https://localhost:8080/",
          "height": 52
        },
        "outputId": "b6b63d6c-9c9c-4db5-a17d-8d64360346bb"
      },
      "source": [
        "# name 속성에 대한 feature vectorization 변환\n",
        "cnt_vec = CountVectorizer(max_features=30000)\n",
        "X_name = cnt_vec.fit_transform(mercari_df[\"name\"])\n",
        "\n",
        "# item_description에 대한 feature vectorization 변환\n",
        "tfidf_descp = TfidfVectorizer(max_features=50000, ngram_range = (1, 3), stop_words = \"english\")\n",
        "X_descp = tfidf_descp.fit_transform(mercari_df[\"item_description\"])\n",
        "\n",
        "print(\"name vectorization shape : \", X_name.shape)\n",
        "print(\"item_description vectorization shape : \", X_descp.shape)"
      ],
      "execution_count": 20,
      "outputs": [
        {
          "output_type": "stream",
          "text": [
            "name vectorization shape :  (1482535, 30000)\n",
            "item_description vectorization shape :  (1482535, 50000)\n"
          ],
          "name": "stdout"
        }
      ]
    },
    {
      "cell_type": "code",
      "metadata": {
        "id": "oWJvWBAiYpY4",
        "colab_type": "code",
        "colab": {}
      },
      "source": [
        "from sklearn.preprocessing import LabelBinarizer\n",
        "\n",
        "# brand_name, item_condition_id, shipping 각 피처들을 희소 행렬 원-핫 인코딩 변환\n",
        "lb_brand_name = LabelBinarizer(sparse_output = True)\n",
        "X_brand = lb_brand_name.fit_transform(mercari_df[\"brand_name\"])\n",
        "\n",
        "lb_item_cond_id = LabelBinarizer(sparse_output=True)\n",
        "X_item_cond_id = lb_item_cond_id.fit_transform(mercari_df[\"item_condition_id\"])\n",
        "\n",
        "lb_shipping = LabelBinarizer(sparse_output=True)\n",
        "X_shipping = lb_shipping.fit_transform(mercari_df[\"shipping\"])\n",
        "\n",
        "lb_cat_dae = LabelBinarizer(sparse_output=True)\n",
        "X_cat_dae = lb_cat_dae.fit_transform(mercari_df[\"cat_dae\"])\n",
        "\n",
        "lb_cat_jung = LabelBinarizer(sparse_output=True)\n",
        "X_cat_jung = lb_cat_dae.fit_transform(mercari_df[\"cat_jung\"])\n",
        "\n",
        "lb_cat_so = LabelBinarizer(sparse_output=True)\n",
        "X_cat_so = lb_cat_dae.fit_transform(mercari_df[\"cat_so\"])"
      ],
      "execution_count": 0,
      "outputs": []
    },
    {
      "cell_type": "code",
      "metadata": {
        "id": "SjXvkAdkbDGM",
        "colab_type": "code",
        "colab": {
          "base_uri": "https://localhost:8080/",
          "height": 87
        },
        "outputId": "0e6d0bba-73b0-4ff5-f973-8ea5fe9a30af"
      },
      "source": [
        "print(type(X_brand), type(X_item_cond_id), type(X_shipping))\n",
        "print(\"X_brand shape : {0}, X_item_cond_id shape : {1}\".format(X_brand.shape, X_item_cond_id.shape))\n",
        "print(\"X_shipping shape : {0}, X_cat_dae shape : {1}\".format(X_shipping.shape, X_cat_dae.shape))\n",
        "print(\"X_cat_jung shape : {0}, X_cat_so shape : {1}\".format(X_cat_jung.shape, X_cat_so.shape))"
      ],
      "execution_count": 22,
      "outputs": [
        {
          "output_type": "stream",
          "text": [
            "<class 'scipy.sparse.csr.csr_matrix'> <class 'scipy.sparse.csr.csr_matrix'> <class 'scipy.sparse.csr.csr_matrix'>\n",
            "X_brand shape : (1482535, 4810), X_item_cond_id shape : (1482535, 5)\n",
            "X_shipping shape : (1482535, 1), X_cat_dae shape : (1482535, 11)\n",
            "X_cat_jung shape : (1482535, 114), X_cat_so shape : (1482535, 871)\n"
          ],
          "name": "stdout"
        }
      ]
    },
    {
      "cell_type": "code",
      "metadata": {
        "id": "5XssSOcrdMyL",
        "colab_type": "code",
        "colab": {
          "base_uri": "https://localhost:8080/",
          "height": 34
        },
        "outputId": "decc2380-e5f6-4f34-f827-cb9f720bf0d2"
      },
      "source": [
        "import gc\n",
        "gc.collect()"
      ],
      "execution_count": 23,
      "outputs": [
        {
          "output_type": "execute_result",
          "data": {
            "text/plain": [
              "0"
            ]
          },
          "metadata": {
            "tags": []
          },
          "execution_count": 23
        }
      ]
    },
    {
      "cell_type": "code",
      "metadata": {
        "id": "QXDc-tr5eUxE",
        "colab_type": "code",
        "colab": {
          "base_uri": "https://localhost:8080/",
          "height": 52
        },
        "outputId": "d4541ecc-5cce-42f7-f40a-3fbb9306c66d"
      },
      "source": [
        "from scipy.sparse import hstack\n",
        "import gc\n",
        "\n",
        "sparse_matrix_list = (X_name, X_descp, X_brand, X_item_cond_id, X_shipping, X_cat_dae, X_cat_jung, X_cat_so)\n",
        "\n",
        "# 사이파이 sparse 모듈의 hstack 함수를 이용하여 앞에서 인코딩과 Vectorization을 수행한 데이터셋을 모두 결합\n",
        "X_features_sparse = hstack(sparse_matrix_list).tocsr()\n",
        "print(type(X_features_sparse), X_features_sparse.shape)\n",
        "\n",
        "del X_features_sparse\n",
        "gc.collect()"
      ],
      "execution_count": 24,
      "outputs": [
        {
          "output_type": "stream",
          "text": [
            "<class 'scipy.sparse.csr.csr_matrix'> (1482535, 85812)\n"
          ],
          "name": "stdout"
        },
        {
          "output_type": "execute_result",
          "data": {
            "text/plain": [
              "0"
            ]
          },
          "metadata": {
            "tags": []
          },
          "execution_count": 24
        }
      ]
    },
    {
      "cell_type": "code",
      "metadata": {
        "id": "ieYzt5EOfCjX",
        "colab_type": "code",
        "colab": {}
      },
      "source": [
        "def rmsle(y, y_pred):\n",
        "  return np.sqrt(np.mean(np.square(np.log1p(y) - np.log1p(y_pred))))\n",
        "\n",
        "def evaluate_org_price(y_test, preds):\n",
        "  preds_exmpm = np.expm1(preds)\n",
        "  y_test_exmpm = np.expm1(y_test)\n",
        "\n",
        "  rmsle_result = rmsle(y_test_exmpm, preds_exmpm)\n",
        "  return rmsle_result"
      ],
      "execution_count": 0,
      "outputs": []
    },
    {
      "cell_type": "code",
      "metadata": {
        "colab_type": "code",
        "id": "Zw0ERR0zhCPi",
        "colab": {}
      },
      "source": [
        "def model_train_predict(model, matrix_list):\n",
        "  X = hstack(matrix_list).tocsr()\n",
        "\n",
        "  X_train, X_test, y_train, y_test = train_test_split(X, mercari_df[\"price\"], test_size = 0.2, random_state = 156)\n",
        "\n",
        "  model.fit(X_train, y_train)\n",
        "  preds = model.predict(X_test)\n",
        "\n",
        "  del X, X_train, X_test, y_train\n",
        "  gc.collect()\n",
        "\n",
        "  return preds, y_test"
      ],
      "execution_count": 0,
      "outputs": []
    },
    {
      "cell_type": "code",
      "metadata": {
        "id": "8MQZ4b8-hC40",
        "colab_type": "code",
        "colab": {
          "base_uri": "https://localhost:8080/",
          "height": 52
        },
        "outputId": "799a8410-6138-469b-9a94-b49b01273c94"
      },
      "source": [
        "linear_model = Ridge(solver=\"lsqr\", fit_intercept=False)\n",
        "\n",
        "sparse_matrix_list = (X_name, X_brand, X_item_cond_id, X_shipping, X_cat_dae, X_cat_jung, X_cat_so)\n",
        "\n",
        "linear_preds, y_test = model_train_predict(linear_model, sparse_matrix_list)\n",
        "print(\"Item Description을 제외했을 때 rmsle 값 : \", evaluate_org_price(y_test, linear_preds))\n",
        "\n",
        "sparse_matrix_list = (X_name, X_descp, X_brand, X_item_cond_id, X_shipping, X_cat_dae, X_cat_jung, X_cat_so)\n",
        "linear_preds, y_test = model_train_predict(linear_model, sparse_matrix_list)\n",
        "print(\"Item Description을 포함한 rmlse 값 : \", evaluate_org_price(y_test, linear_preds))"
      ],
      "execution_count": 27,
      "outputs": [
        {
          "output_type": "stream",
          "text": [
            "Item Description을 제외했을 때 rmsle 값 :  0.5027973690574066\n",
            "Item Description을 포함한 rmlse 값 :  0.47114366040632394\n"
          ],
          "name": "stdout"
        }
      ]
    },
    {
      "cell_type": "code",
      "metadata": {
        "id": "0P_h0LpriEFk",
        "colab_type": "code",
        "colab": {
          "base_uri": "https://localhost:8080/",
          "height": 34
        },
        "outputId": "66b47313-4881-4d5b-be90-aca8f9b1a976"
      },
      "source": [
        "from lightgbm import LGBMRegressor\n",
        "\n",
        "lgbm_model = LGBMRegressor(n_estimators = 200, learning_rate = 0.5, num_leaves = 125, random_state = 156)\n",
        "lgbm_preds, y_test = model_train_predict(lgbm_model, matrix_list = sparse_matrix_list)\n",
        "print(\"LightGBM rmlse 값 : \", evaluate_org_price(y_test, lgbm_preds))"
      ],
      "execution_count": 28,
      "outputs": [
        {
          "output_type": "stream",
          "text": [
            "LightGBM rmlse 값 :  0.4569096300487453\n"
          ],
          "name": "stdout"
        }
      ]
    },
    {
      "cell_type": "code",
      "metadata": {
        "id": "cYwRc4n9jTLh",
        "colab_type": "code",
        "colab": {
          "base_uri": "https://localhost:8080/",
          "height": 34
        },
        "outputId": "f89d151e-9f1a-41c4-f8d1-540bd6f78c88"
      },
      "source": [
        "preds = lgbm_preds * 0.45 + linear_preds * 0.55\n",
        "print(\"LightGBM과 Ridge를 ensemble한 최종 rmsle 값 : \", evaluate_org_price(y_test, preds))"
      ],
      "execution_count": 29,
      "outputs": [
        {
          "output_type": "stream",
          "text": [
            "LightGBM과 Ridge를 ensemble한 최종 rmsle 값 :  0.45059234446789687\n"
          ],
          "name": "stdout"
        }
      ]
    },
    {
      "cell_type": "code",
      "metadata": {
        "id": "vY8jTDnP2fbK",
        "colab_type": "code",
        "colab": {}
      },
      "source": [
        ""
      ],
      "execution_count": 0,
      "outputs": []
    }
  ]
}