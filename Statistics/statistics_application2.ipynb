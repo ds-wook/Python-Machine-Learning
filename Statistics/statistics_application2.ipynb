{
 "cells": [
  {
   "cell_type": "code",
   "execution_count": 1,
   "metadata": {},
   "outputs": [],
   "source": [
    "import numpy as np\n",
    "import pandas as pd\n",
    "import matplotlib.pyplot as plt\n",
    "import seaborn as sns\n",
    "from scipy.stats import norm"
   ]
  },
  {
   "cell_type": "code",
   "execution_count": 2,
   "metadata": {},
   "outputs": [
    {
     "name": "stdout",
     "output_type": "stream",
     "text": [
      "(a) 0.9591\n",
      "(b) 0.1292\n"
     ]
    }
   ],
   "source": [
    "# 예제 7-1\n",
    "print(\"(a) {0:.4f}\".format(norm.cdf(x = 1.74)))\n",
    "print(\"(b) {0:.4f}\".format(1 - norm.cdf(x = 1.13)))"
   ]
  },
  {
   "cell_type": "code",
   "execution_count": 3,
   "metadata": {},
   "outputs": [
    {
     "name": "stdout",
     "output_type": "stream",
     "text": [
      "(a) 0.2843\n",
      "(b) 0.8579\n"
     ]
    }
   ],
   "source": [
    "# 예제 7-2\n",
    "print(\"(a) {0:.4f}\".format(norm.cdf(-0.57)))\n",
    "print(\"(b) {0:.4f}\".format(norm.cdf(2.12) - norm.cdf(-1.15)))"
   ]
  },
  {
   "cell_type": "code",
   "execution_count": 4,
   "metadata": {},
   "outputs": [
    {
     "name": "stdout",
     "output_type": "stream",
     "text": [
      "(a) 0.0062\n",
      "(b) 0.0418\n",
      "(c) 0.7256\n"
     ]
    }
   ],
   "source": [
    "# 예제 7-4\n",
    "mu, s = 3000, 200\n",
    "print(\"(a) {0:.4f}\".format(norm.cdf(2500, mu, s)))\n",
    "print(\"(b) {0:.4f}\".format(1 - norm.cdf(3346, mu, s)))\n",
    "print(\"(c) {0:.4f}\".format(norm.cdf(3426, mu, s) - norm.cdf(2870, mu, s)))"
   ]
  },
  {
   "cell_type": "code",
   "execution_count": 5,
   "metadata": {
    "scrolled": true
   },
   "outputs": [
    {
     "name": "stdout",
     "output_type": "stream",
     "text": [
      "(a) 17.1753\n",
      "(b) 18.8742\n",
      "(c) 12.0601\n"
     ]
    }
   ],
   "source": [
    "# 예제 7-5\n",
    "mu, s_square = 15, 2.25\n",
    "print(\"(a) {0:.4f}\".format(norm.ppf(0.9265, mu, np.sqrt(s_square))))\n",
    "print(\"(b) {0:.4f}\".format(norm.ppf(1 - 0.0049, mu, np.sqrt(s_square))))\n",
    "print(\"(c) {0:.4f}\".format(norm.ppf(0.025, mu, np.sqrt(s_square))))"
   ]
  },
  {
   "cell_type": "code",
   "execution_count": 6,
   "metadata": {},
   "outputs": [
    {
     "name": "stdout",
     "output_type": "stream",
     "text": [
      "(a) 30 25\n",
      "(b) 0.6195\n",
      "(c) 17.1209\n"
     ]
    }
   ],
   "source": [
    "# 예제 7-6\n",
    "x_mu, x_s2 = 25, 4\n",
    "y_mu, y_s2 = 20, 9\n",
    "u_mu, u_s2 = 2 * x_mu - y_mu, 4 * x_s2 + y_s2\n",
    "print(\"(a)\", u_mu, u_s2)\n",
    "print(\"(b) {0:.4f}\".format(norm.cdf(39, u_mu, np.sqrt(u_s2)) - norm.cdf(28, u_mu, np.sqrt(u_s2))))\n",
    "print(\"(c) {0:.4f}\".format(norm.ppf(0.005, u_mu, np.sqrt(u_s2))))"
   ]
  },
  {
   "cell_type": "code",
   "execution_count": 7,
   "metadata": {},
   "outputs": [
    {
     "name": "stdout",
     "output_type": "stream",
     "text": [
      "0.9713969985688435\n"
     ]
    }
   ],
   "source": [
    "# n = 100, p = 0.65인 이항분포를 따른다 연속성 수정에 의해 P(63 <= X <= 73) 계산\n",
    "n, p = 100, 0.65\n",
    "print(norm.cdf(73.5, n * p, np.sqrt(n * p * (1 - p)) - norm.cdf(62.5, n * p , np.sqrt(n * p * (1 - p)))))"
   ]
  },
  {
   "cell_type": "code",
   "execution_count": 8,
   "metadata": {},
   "outputs": [
    {
     "name": "stdout",
     "output_type": "stream",
     "text": [
      "(a) 9.488\n",
      "(b) 0.711\n"
     ]
    }
   ],
   "source": [
    "from scipy.stats import chi2\n",
    "# 예제 7-11\n",
    "print(\"(a) {0:.3f}\".format(chi2.ppf(1 - 0.05, df =  4)))\n",
    "print(\"(b) {0:.3f}\".format(chi2.ppf(0.05, df = 4)))"
   ]
  },
  {
   "cell_type": "code",
   "execution_count": 9,
   "metadata": {},
   "outputs": [
    {
     "name": "stdout",
     "output_type": "stream",
     "text": [
      "(a) 3.365\n",
      "(b) -2.015\n",
      "(c) 4.032\n"
     ]
    }
   ],
   "source": [
    "from scipy.stats import t\n",
    "# 예제 7-12\n",
    "print(\"(a) {0:.3f}\".format(t.ppf(1 - 0.01, df = 5)))\n",
    "print(\"(b) {0:.3f}\".format(t.ppf(0.05, df = 5)))\n",
    "print(\"(c) {0:.3f}\".format(t.ppf(1 - 0.005, df = 5)))"
   ]
  },
  {
   "cell_type": "code",
   "execution_count": 10,
   "metadata": {},
   "outputs": [
    {
     "name": "stdout",
     "output_type": "stream",
     "text": [
      "f_r : 7.39\n",
      "f_l : 0.1068\n"
     ]
    }
   ],
   "source": [
    "from scipy.stats import f\n",
    "# 예제 7-13 분자 자유도 5, 분모 자유도 4\n",
    "print(\"f_r : {0:.2f}\".format(f.ppf(1 - 0.025, 4, 5)))\n",
    "print(\"f_l : {0:.4f}\".format(f.ppf(0.025, 4, 5)))"
   ]
  },
  {
   "cell_type": "code",
   "execution_count": 11,
   "metadata": {},
   "outputs": [
    {
     "name": "stdout",
     "output_type": "stream",
     "text": [
      "0.02503485644212966\n"
     ]
    }
   ],
   "source": [
    "# 예제 5-7\n",
    "print(1 - chi2.cdf(11.14, 4))"
   ]
  },
  {
   "cell_type": "code",
   "execution_count": 12,
   "metadata": {},
   "outputs": [
    {
     "name": "stdout",
     "output_type": "stream",
     "text": [
      "0.010183372003112283\n"
     ]
    }
   ],
   "source": [
    "# 예제 5-8\n",
    "print(t.cdf(x = 1100, loc = 1200, scale = 104 / np.sqrt(9), df = 8))"
   ]
  },
  {
   "cell_type": "code",
   "execution_count": 30,
   "metadata": {},
   "outputs": [
    {
     "name": "stdout",
     "output_type": "stream",
     "text": [
      "(a) f = 1.085\n",
      "(b) 3.230\n"
     ]
    }
   ],
   "source": [
    "# 예제 5-9\n",
    "data1 = np.array([6.5, 5.3, 4.4, 4.9, 6.9, 5.3, 5.0, 5.3, 5.3])\n",
    "data2 = np.array([4.9, 4.0, 5.5, 3.9, 4.3, 4.7, 5.8, 4.4, 4.2, 3.3])\n",
    "v1 = data1.var(ddof = 1)\n",
    "v2 = data2.var(ddof = 1)\n",
    "print(\"(a) f = {0:.3f}\".format(v1 / v2))\n",
    "print(\"(b) {0:.3f}\".format(f.ppf(1 - 0.05, 8, 9)))"
   ]
  }
 ],
 "metadata": {
  "kernelspec": {
   "display_name": "Python 3",
   "language": "python",
   "name": "python3"
  },
  "language_info": {
   "codemirror_mode": {
    "name": "ipython",
    "version": 3
   },
   "file_extension": ".py",
   "mimetype": "text/x-python",
   "name": "python",
   "nbconvert_exporter": "python",
   "pygments_lexer": "ipython3",
   "version": "3.7.1"
  }
 },
 "nbformat": 4,
 "nbformat_minor": 2
}
