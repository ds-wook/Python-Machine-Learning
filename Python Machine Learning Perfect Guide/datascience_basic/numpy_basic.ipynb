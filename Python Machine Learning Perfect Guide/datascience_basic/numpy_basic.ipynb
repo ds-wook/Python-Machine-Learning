{
 "nbformat": 4,
 "nbformat_minor": 2,
 "metadata": {
  "language_info": {
   "name": "python",
   "codemirror_mode": {
    "name": "ipython",
    "version": 3
   },
   "version": "3.7.3"
  },
  "orig_nbformat": 2,
  "file_extension": ".py",
  "mimetype": "text/x-python",
  "name": "python",
  "npconvert_exporter": "python",
  "pygments_lexer": "ipython3",
  "version": 3
 },
 "cells": [
  {
   "cell_type": "code",
   "execution_count": 1,
   "metadata": {},
   "outputs": [],
   "source": [
    "import numpy as np"
   ]
  },
  {
   "cell_type": "code",
   "execution_count": 2,
   "metadata": {},
   "outputs": [
    {
     "name": "stdout",
     "output_type": "stream",
     "text": "list1 :  [1, 2, 3]\nlist1 type :  <class 'list'>\narray1 :  [1 2 3]\narray1 type :  <class 'numpy.ndarray'>\n"
    }
   ],
   "source": [
    "list1 = [1, 2, 3]\n",
    "print(\"list1 : \", list1)\n",
    "print(\"list1 type : \", type(list1))\n",
    "\n",
    "array1 = np.array(list1)\n",
    "print(\"array1 : \",  array1)\n",
    "print(\"array1 type : \", type(array1))"
   ]
  },
  {
   "cell_type": "code",
   "execution_count": 3,
   "metadata": {},
   "outputs": [
    {
     "name": "stdout",
     "output_type": "stream",
     "text": "array1 type :  <class 'numpy.ndarray'>\narraya array 형태 :  (3,)\narray2 type :  <class 'numpy.ndarray'>\narray2 array 형태 :  (2, 3)\narray3 type :  <class 'numpy.ndarray'>\narray3 array 형태 :  (1, 3)\n"
    }
   ],
   "source": [
    "array1 = np.array([1, 2, 3])\n",
    "print(\"array1 type : \", type(array1))\n",
    "print(\"arraya array 형태 : \", array1.shape)\n",
    "\n",
    "array2 = np.array([[1, 2, 3], [2, 3, 4]])\n",
    "print(\"array2 type : \", type(array2))\n",
    "print(\"array2 array 형태 : \", array2.shape)\n",
    "\n",
    "array3 = np.array([[1, 2, 3]])\n",
    "print(\"array3 type : \", type(array3))\n",
    "print(\"array3 array 형태 : \", array3.shape)"
   ]
  },
  {
   "cell_type": "code",
   "execution_count": 4,
   "metadata": {},
   "outputs": [
    {
     "name": "stdout",
     "output_type": "stream",
     "text": "array1 : 1차원, array2 : 2차원, array3  2차원\n"
    }
   ],
   "source": [
    "print(\"array1 : {:0}차원, array2 : {:1}차원, array3 {:2}차원\".format(array1.ndim, array2.ndim, array3.ndim))"
   ]
  },
  {
   "cell_type": "code",
   "execution_count": 5,
   "metadata": {},
   "outputs": [
    {
     "name": "stdout",
     "output_type": "stream",
     "text": "['1' '2' 'test'] <U11\n[1. 2. 3.] float64\n"
    }
   ],
   "source": [
    "list2 = [1, 2, \"test\"]\n",
    "array2 = np.array(list2)\n",
    "print(array2, array2.dtype)\n",
    "\n",
    "list3 = [1, 2, 3.0]\n",
    "array3 = np.array(list3)\n",
    "print(array3, array3.dtype)"
   ]
  },
  {
   "cell_type": "code",
   "execution_count": 6,
   "metadata": {},
   "outputs": [
    {
     "name": "stdout",
     "output_type": "stream",
     "text": "[1. 2. 3.] float64\n[1 2 3] int32\n[1 2 3] int32\n"
    }
   ],
   "source": [
    "array_int = np.array([1, 2, 3])\n",
    "array_float = array_int.astype(\"float64\")\n",
    "print(array_float, array_float.dtype)\n",
    "\n",
    "array_int1 = array_float.astype(\"int32\")\n",
    "print(array_int1, array_int1.dtype)\n",
    "\n",
    "array_float1 = np.array([1.1, 2.1, 3.1])\n",
    "array_int2 = array_float1.astype(\"int32\")\n",
    "print(array_int2, array_int2.dtype)"
   ]
  },
  {
   "cell_type": "code",
   "execution_count": 11,
   "metadata": {},
   "outputs": [
    {
     "name": "stdout",
     "output_type": "stream",
     "text": "15\n[3 5 7]\n[6 9]\n"
    }
   ],
   "source": [
    "array2 = np.array([[1, 2, 3], [2, 3, 4]])\n",
    "\n",
    "print(array2.sum())\n",
    "print(array2.sum(axis = 0))\n",
    "print(array2.sum(axis = 1))"
   ]
  },
  {
   "cell_type": "markdown",
   "execution_count": null,
   "metadata": {},
   "outputs": [],
   "source": [
    "# ndarray를 편리하게 생성하기 - arange, zeros, ones"
   ]
  },
  {
   "cell_type": "code",
   "execution_count": 7,
   "metadata": {},
   "outputs": [
    {
     "name": "stdout",
     "output_type": "stream",
     "text": "[0 1 2 3 4 5 6 7 8 9]\nint32 (10,)\n"
    }
   ],
   "source": [
    "sequence_array = np.arange(10)\n",
    "print(sequence_array)\n",
    "print(sequence_array.dtype, sequence_array.shape)"
   ]
  },
  {
   "cell_type": "code",
   "execution_count": 8,
   "metadata": {},
   "outputs": [
    {
     "name": "stdout",
     "output_type": "stream",
     "text": "[[0 0]\n [0 0]\n [0 0]]\nint32 (3, 2)\n"
    }
   ],
   "source": [
    "zero_array = np.zeros((3, 2), dtype = \"int32\")\n",
    "print(zero_array)\n",
    "print(zero_array.dtype, zero_array.shape)"
   ]
  },
  {
   "cell_type": "code",
   "execution_count": 9,
   "metadata": {},
   "outputs": [
    {
     "name": "stdout",
     "output_type": "stream",
     "text": "[[1. 1.]\n [1. 1.]\n [1. 1.]]\nfloat64 (3, 2)\n"
    }
   ],
   "source": [
    "one_array = np.ones((3, 2))\n",
    "print(one_array)\n",
    "print(one_array.dtype, one_array.shape)"
   ]
  },
  {
   "cell_type": "code",
   "execution_count": 10,
   "metadata": {},
   "outputs": [
    {
     "name": "stdout",
     "output_type": "stream",
     "text": "array1:\n [0 1 2 3 4 5 6 7 8 9]\narray2:\n [[0 1 2 3 4]\n [5 6 7 8 9]]\narray3:\n [[0 1]\n [2 3]\n [4 5]\n [6 7]\n [8 9]]\n"
    }
   ],
   "source": [
    "array1 = np.arange(10)\n",
    "print(\"array1:\\n\", array1)\n",
    "\n",
    "array2 = array1.reshape(2, 5)\n",
    "print(\"array2:\\n\", array2)\n",
    "\n",
    "array3 = array1.reshape(5, 2)\n",
    "print(\"array3:\\n\", array3)"
   ]
  },
  {
   "cell_type": "code",
   "execution_count": 14,
   "metadata": {},
   "outputs": [
    {
     "name": "stdout",
     "output_type": "stream",
     "text": "[0 1 2 3 4 5 6 7 8 9]\narray2 shape: (2, 5)\narray2:\n [[0 1 2 3 4]\n [5 6 7 8 9]]\narray3 shape: (5, 2)\narray3:\n [[0 1]\n [2 3]\n [4 5]\n [6 7]\n [8 9]]\n"
    }
   ],
   "source": [
    "array1 = np.arange(10)\n",
    "print(array1)\n",
    "\n",
    "array2 = array1.reshape(-1, 5)\n",
    "print(\"array2 shape:\", array2.shape)\n",
    "print(\"array2:\\n\",array2)\n",
    "\n",
    "array3 = array1.reshape(5, -1)\n",
    "print(\"array3 shape:\", array3.shape)\n",
    "print(\"array3:\\n\", array3)"
   ]
  },
  {
   "cell_type": "code",
   "execution_count": 17,
   "metadata": {},
   "outputs": [
    {
     "name": "stdout",
     "output_type": "stream",
     "text": "array2d_1 shape: (5, 1)\narray2d_1:\n [[0]\n [1]\n [2]\n [3]\n [4]]\narray1d shape: (5,)\narray1d:\n [0 1 2 3 4]\n"
    }
   ],
   "source": [
    "# reshape()는 (-1, 1), (-1, 1)와 같은 형태로 주로 사용됨\n",
    "# 1차원 ndarray를 2차원으로 또는 2차원 ndarray를 1차원으로 변환시 사용\n",
    "array1 = np.arange(5)\n",
    "\n",
    "array2d_1 = array1.reshape(-1, 1)\n",
    "print(\"array2d_1 shape:\", array2d_1.shape)\n",
    "print(\"array2d_1:\\n\", array2d_1)\n",
    "\n",
    "array1d = array2d_1.reshape(-1,) #array2d_1.flatten()\n",
    "print(\"array1d shape:\", array1d.shape)\n",
    "print(\"array1d:\\n\", array1d)"
   ]
  },
  {
   "cell_type": "markdown",
   "execution_count": null,
   "metadata": {},
   "outputs": [],
   "source": [
    "# ndarray의 데이터 세트 선택하기 - 인덱싱(Indexing)"
   ]
  },
  {
   "cell_type": "code",
   "execution_count": 7,
   "metadata": {},
   "outputs": [
    {
     "name": "stdout",
     "output_type": "stream",
     "text": "array1 :  [1 2 3 4 5 6 7 8 9]\nvalue :  3\n<class 'numpy.int32'>\n맨 뒤의 값 : 9, 맨 뒤에서 두번째 값 : 8\n"
    }
   ],
   "source": [
    "array1 = np.arange(start = 1, stop = 10)\n",
    "print(\"array1 : \", array1)\n",
    "\n",
    "value = array1[2]\n",
    "print(\"value : \", value)\n",
    "print(type(value))\n",
    "print(\"맨 뒤의 값 : {:0}, 맨 뒤에서 두번째 값 : {:1}\".format(array1[-1], array1[-2]))"
   ]
  },
  {
   "cell_type": "code",
   "execution_count": 8,
   "metadata": {},
   "outputs": [
    {
     "name": "stdout",
     "output_type": "stream",
     "text": "array1: [9 2 3 4 5 6 7 8 0]\n"
    }
   ],
   "source": [
    "array1[0] = 9\n",
    "array1[8] = 0\n",
    "print(\"array1:\", array1)"
   ]
  },
  {
   "cell_type": "code",
   "execution_count": 9,
   "metadata": {},
   "outputs": [
    {
     "name": "stdout",
     "output_type": "stream",
     "text": "[[1 2 3]\n [4 5 6]\n [7 8 9]]\n(row = 0, col = 0) index 가리키는 값: 1\n(row = 0, col = 1) index 가리키는 값: 2\n(row = 1, col = 0) index 가리키는 값: 4\n(row = 2, col = 2) index 가리키는 값: 9\n"
    }
   ],
   "source": [
    "array1d = np.arange(1, 10)\n",
    "array2d = array1d.reshape(-1, 3)\n",
    "print(array2d)\n",
    "\n",
    "print(\"(row = 0, col = 0) index 가리키는 값:\", array2d[0, 0])\n",
    "print(\"(row = 0, col = 1) index 가리키는 값:\", array2d[0, 1])\n",
    "print(\"(row = 1, col = 0) index 가리키는 값:\", array2d[1, 0])\n",
    "print(\"(row = 2, col = 2) index 가리키는 값:\", array2d[2, 2])\n"
   ]
  },
  {
   "cell_type": "code",
   "execution_count": 10,
   "metadata": {},
   "outputs": [
    {
     "name": "stdout",
     "output_type": "stream",
     "text": "[1 2 3 4 5 6 7 8 9]\n[1 2 3]\n<class 'numpy.ndarray'>\n"
    }
   ],
   "source": [
    "array1 = np.arange(1, 10)\n",
    "print(array1)\n",
    "array3 = array1[0:3]\n",
    "print(array3)\n",
    "print(type(array3))"
   ]
  },
  {
   "cell_type": "code",
   "execution_count": 11,
   "metadata": {},
   "outputs": [
    {
     "name": "stdout",
     "output_type": "stream",
     "text": "[1 2 3]\n[4 5 6 7 8 9]\n[1 2 3 4 5 6 7 8 9]\n"
    }
   ],
   "source": [
    "array1 = np.arange(1, 10)\n",
    "array4 = array1[:3]\n",
    "print(array4)\n",
    "\n",
    "array5 = array1[3:]\n",
    "print(array5)\n",
    "\n",
    "array6 = array1[:]\n",
    "print(array6)"
   ]
  },
  {
   "cell_type": "code",
   "execution_count": 12,
   "metadata": {},
   "outputs": [
    {
     "name": "stdout",
     "output_type": "stream",
     "text": "array2d:\n [[1 2 3]\n [4 5 6]\n [7 8 9]]\narray2d[0:2, 0:2] \n [[1 2]\n [4 5]]\narray2d[0:2, 0:2] \n [[4 5 6]\n [7 8 9]]\narray2d[0:2, 0:2] \n [[4 5 6]\n [7 8 9]]\narray2d[0:2, 0:2] \n [[1 2 3]\n [4 5 6]\n [7 8 9]]\narray2d[0:2, 0:2] \n [[2 3]\n [5 6]]\narray2d[0:2, 0:2] \n [1 4]\n"
    }
   ],
   "source": [
    "array1d = np.arange(1, 10)\n",
    "array2d = array1d.reshape(3, 3)\n",
    "print(\"array2d:\\n\",array2d)\n",
    "\n",
    "print(\"array2d[0:2, 0:2] \\n\", array2d[0:2, 0:2])\n",
    "print(\"array2d[0:2, 0:2] \\n\", array2d[1:3, 0:3])\n",
    "print(\"array2d[0:2, 0:2] \\n\", array2d[1:3, :])\n",
    "print(\"array2d[0:2, 0:2] \\n\", array2d[:, :])\n",
    "print(\"array2d[0:2, 0:2] \\n\", array2d[:2, 1:])\n",
    "print(\"array2d[0:2, 0:2] \\n\", array2d[:2, 0])"
   ]
  },
  {
   "cell_type": "code",
   "execution_count": 13,
   "metadata": {},
   "outputs": [
    {
     "name": "stdout",
     "output_type": "stream",
     "text": "[[1 2 3]\n [4 5 6]\n [7 8 9]]\narray2d[[0, 1], 2] =>  [3, 6]\narray2d[[0, 2], 0:2] =>  [[1, 2], [7, 8]]\narray2d[[0, 1]] =>  [[1, 2, 3], [4, 5, 6]]\n"
    }
   ],
   "source": [
    "array1d = np.arange(1, 10)\n",
    "array2d = array1d.reshape(3, 3)\n",
    "print(array2d)\n",
    "\n",
    "array3 = array2d[[0, 1], 2]\n",
    "print(\"array2d[[0, 1], 2] => \", array3.tolist())\n",
    "\n",
    "array4 = array2d[[0, 2], 0:2]\n",
    "print(\"array2d[[0, 2], 0:2] => \", array4.tolist())\n",
    "\n",
    "array5 = array2d[[0, 1]]\n",
    "print(\"array2d[[0, 1]] => \", array5.tolist())"
   ]
  },
  {
   "cell_type": "code",
   "execution_count": 14,
   "metadata": {},
   "outputs": [
    {
     "name": "stdout",
     "output_type": "stream",
     "text": "[1 2 3 4 5 6 7 8 9]\n"
    }
   ],
   "source": [
    "array1d = np.arange(1, 10)\n",
    "print(array1d)"
   ]
  },
  {
   "cell_type": "code",
   "execution_count": 16,
   "metadata": {},
   "outputs": [
    {
     "name": "stdout",
     "output_type": "stream",
     "text": "[False False False False False  True  True  True  True]\nvar1: [False False False False False  True  True  True  True]\n<class 'numpy.ndarray'>\n"
    }
   ],
   "source": [
    "print(array1d > 5)\n",
    "var1 = array1d > 5\n",
    "print(\"var1:\", var1)\n",
    "print(type(var1))"
   ]
  },
  {
   "cell_type": "code",
   "execution_count": 17,
   "metadata": {},
   "outputs": [
    {
     "name": "stdout",
     "output_type": "stream",
     "text": "array1d > 5 불린 인덱싱 결과 값 :  [6 7 8 9]\n"
    }
   ],
   "source": [
    "array3 = array1d[array1d > 5]\n",
    "print(\"array1d > 5 불린 인덱싱 결과 값 : \", array3)"
   ]
  },
  {
   "cell_type": "code",
   "execution_count": 19,
   "metadata": {},
   "outputs": [
    {
     "name": "stdout",
     "output_type": "stream",
     "text": "array1d > 5 불린 인덱싱 결과 값 :  [6 7 8 9]\n"
    }
   ],
   "source": [
    "boolean_indexes = np.array([False, False, False, False, False,  True,  True,  True,  True])\n",
    "array3 = array1d[boolean_indexes]\n",
    "print(\"array1d > 5 불린 인덱싱 결과 값 : \", array3)"
   ]
  },
  {
   "cell_type": "code",
   "execution_count": 20,
   "metadata": {},
   "outputs": [
    {
     "name": "stdout",
     "output_type": "stream",
     "text": "일반 인덱스로 필터링 결과 :  [6 7 8 9]\n"
    }
   ],
   "source": [
    "indexes = np.array([5, 6, 7, 8])\n",
    "array4 = array1d[indexes]\n",
    "print(\"일반 인덱스로 필터링 결과 : \", array4)"
   ]
  },
  {
   "cell_type": "markdown",
   "execution_count": null,
   "metadata": {},
   "outputs": [],
   "source": [
    "# 정렬과 선형대수 연산"
   ]
  },
  {
   "cell_type": "code",
   "execution_count": 21,
   "metadata": {},
   "outputs": [
    {
     "name": "stdout",
     "output_type": "stream",
     "text": "원본 행렬: [3 1 9 5]\nnp.sort() 호출 후 반환된 정렬 행렬: [1 3 5 9]\nnp.sort() 호출 후 원본 행렬:  [3 1 9 5]\norg_array.sort() 호출 후 반환된 행렬: None\norg_array.sort() 호출 후 원본 행렬: [1 3 5 9]\n"
    }
   ],
   "source": [
    "org_array = np.array([3, 1, 9, 5])\n",
    "print(\"원본 행렬:\", org_array)\n",
    "\n",
    "sort_array1 = np.sort(org_array)\n",
    "print(\"np.sort() 호출 후 반환된 정렬 행렬:\", sort_array1)\n",
    "print(\"np.sort() 호출 후 원본 행렬: \", org_array)\n",
    "\n",
    "sort_array2 = org_array.sort()\n",
    "org_array.sort()\n",
    "print(\"org_array.sort() 호출 후 반환된 행렬:\", sort_array2)\n",
    "print(\"org_array.sort() 호출 후 원본 행렬:\", org_array)"
   ]
  },
  {
   "cell_type": "code",
   "execution_count": 22,
   "metadata": {},
   "outputs": [
    {
     "name": "stdout",
     "output_type": "stream",
     "text": "내림차순으로 정렬: [9 5 3 1]\n"
    }
   ],
   "source": [
    "sort_array1_desc = np.sort(org_array)[::-1]\n",
    "print(\"내림차순으로 정렬:\", sort_array1_desc)"
   ]
  },
  {
   "cell_type": "code",
   "execution_count": 23,
   "metadata": {},
   "outputs": [
    {
     "name": "stdout",
     "output_type": "stream",
     "text": "row 방향으로 정렬:\n [[ 7  1]\n [ 8 12]]\ncolumn 방향으로 정렬:\n [[ 8 12]\n [ 1  7]]\n"
    }
   ],
   "source": [
    "array2d = np.array([[8, 12], [7, 1]])\n",
    "sort_array2d_axis0 = np.sort(array2d, axis = 0)\n",
    "print(\"row 방향으로 정렬:\\n\", sort_array2d_axis0)\n",
    "sort_array2d_axis1 = np.sort(array2d, axis = 1)\n",
    "print(\"column 방향으로 정렬:\\n\", sort_array2d_axis1)"
   ]
  },
  {
   "cell_type": "code",
   "execution_count": 24,
   "metadata": {},
   "outputs": [
    {
     "name": "stdout",
     "output_type": "stream",
     "text": "[1 3 5 9]\n<class 'numpy.ndarray'>\n행렬 정렬 시 원본 행렬의 인덱스: [1 0 3 2]\n"
    }
   ],
   "source": [
    "org_array = np.array([3, 1, 9, 5])\n",
    "print(np.sort(org_array))\n",
    "\n",
    "sort_indices = np.argsort(org_array)\n",
    "print(type(sort_indices))\n",
    "print(\"행렬 정렬 시 원본 행렬의 인덱스:\", sort_indices)"
   ]
  },
  {
   "cell_type": "code",
   "execution_count": 26,
   "metadata": {},
   "outputs": [
    {
     "name": "stdout",
     "output_type": "stream",
     "text": "[9 5 3 1]\n행렬 내림차순 정렬시 원본 행렬의 인덱스: [2 3 0 1]\n"
    }
   ],
   "source": [
    "print(np.sort(org_array)[::-1])\n",
    "\n",
    "sort_indices_desc = np.argsort(org_array)[::-1]\n",
    "print(\"행렬 내림차순 정렬시 원본 행렬의 인덱스:\", sort_indices_desc)"
   ]
  },
  {
   "cell_type": "code",
   "execution_count": 27,
   "metadata": {},
   "outputs": [
    {
     "name": "stdout",
     "output_type": "stream",
     "text": "sort indices: [0 2 4 1 3]\n['John' 'Sarah' 'Samuel' 'Mike' 'Kate']\n[78 84 88 95 98]\n"
    }
   ],
   "source": [
    "name_array = np.array([\"John\", \"Mike\", \"Sarah\", \"Kate\", \"Samuel\"])\n",
    "score_array = np.array([78, 95, 84, 98, 88])\n",
    "\n",
    "sort_indices = np.argsort(score_array)\n",
    "print(\"sort indices:\", sort_indices)\n",
    "name_array_sort = name_array[sort_indices]\n",
    "score_array_sort = score_array[sort_indices]\n",
    "print(name_array_sort)\n",
    "print(score_array_sort)"
   ]
  },
  {
   "cell_type": "code",
   "execution_count": 28,
   "metadata": {},
   "outputs": [
    {
     "name": "stdout",
     "output_type": "stream",
     "text": "행렬 내적 결과:\n [[ 58  64]\n [139 154]]\n"
    }
   ],
   "source": [
    "A = np.array([[1, 2, 3], [4, 5, 6]])\n",
    "B = np.array([[7, 8],[9, 10], [11, 12]])\n",
    "\n",
    "dot_product = np.dot(A, B)\n",
    "print(\"행렬 내적 결과:\\n\", dot_product)"
   ]
  },
  {
   "cell_type": "code",
   "execution_count": 29,
   "metadata": {},
   "outputs": [
    {
     "name": "stdout",
     "output_type": "stream",
     "text": "A의 전치 행렬:\n [[1 3]\n [2 4]]\n"
    }
   ],
   "source": [
    "A = np.array([[1, 2], [3, 4]])\n",
    "transpose_mat = np.transpose(A) #A.T\n",
    "print(\"A의 전치 행렬:\\n\", transpose_mat)"
   ]
  },
  {
   "cell_type": "code",
   "execution_count": null,
   "metadata": {},
   "outputs": [],
   "source": []
  }
 ]
}
