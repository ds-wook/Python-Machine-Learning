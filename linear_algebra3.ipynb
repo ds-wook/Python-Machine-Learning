{
 "cells": [
  {
   "cell_type": "code",
   "execution_count": 1,
   "metadata": {},
   "outputs": [],
   "source": [
    "# Please fill out this stencil and submit using the provided submission script.\n",
    "# Be sure that the file voting_record_dump109.txt is in the matrix/ directory.\n",
    "\n",
    "## 1: (Task 2.12.1) Create Voting Dict\n",
    "def create_voting_dict(strlist):\n",
    "    \"\"\"\n",
    "    Input: a list of strings.  Each string represents the voting record of a senator.\n",
    "           The string consists of \n",
    "              - the senator's last name, \n",
    "              - a letter indicating the senator's party,\n",
    "              - a couple of letters indicating the senator's home state, and\n",
    "              - a sequence of numbers (0's, 1's, and negative 1's) indicating the senator's\n",
    "                votes on bills\n",
    "              all separated by spaces.\n",
    "    Output: A dictionary that maps the last name of a senator\n",
    "            to a list of numbers representing the senator's voting record.\n",
    "    Example: \n",
    "        >>> vd = create_voting_dict(['Kennedy D MA -1 -1 1 1', 'Snowe R ME 1 1 1 1'])\n",
    "        >>> vd == {'Snowe': [1, 1, 1, 1], 'Kennedy': [-1, -1, 1, 1]}\n",
    "        True\n",
    "\n",
    "    You can use the .split() method to split each string in the\n",
    "    strlist into a list; the first element of the list will be the senator's\n",
    "    name, the second will be his/her party affiliation (R or D), the\n",
    "    third will be his/her home state, and the remaining elements of\n",
    "    the list will be that senator's voting record on a collection of bills.\n",
    "\n",
    "    You can use the built-in procedure int() to convert a string\n",
    "    representation of an integer (e.g. '1') to the actual integer\n",
    "    (e.g. 1).\n",
    "\n",
    "    The lists for each senator should preserve the order listed in voting data.\n",
    "    In case you're feeling clever, this can be done in one line.\n",
    "    \"\"\"\n",
    "    d={}\n",
    "    for tmp in strlist:\n",
    "        tmp_l = tmp.split()\n",
    "        d[tmp_l[0]]=[ int(tmp_l[i]) for i in range(3, len(tmp_l)) ]\n",
    "    return d\n",
    "\n",
    "f = open('voting_record_dump109.txt')\n",
    "mylist = list(f)\n",
    "vd = create_voting_dict(mylist)"
   ]
  },
  {
   "cell_type": "code",
   "execution_count": 4,
   "metadata": {},
   "outputs": [],
   "source": [
    "## 2: (Task 2.12.2) Policy Compare\n",
    "def policy_compare(sen_a, sen_b, voting_dict):\n",
    "    \"\"\"\n",
    "    Input: last names of sen_a and sen_b, and a voting dictionary mapping senator\n",
    "           names to lists representing their voting records.\n",
    "    Output: the dot-product (as a number) representing the degree of similarity\n",
    "            between two senators' voting policies\n",
    "    Example:\n",
    "        >>> voting_dict = {'Fox-Epstein':[-1,-1,-1,1],'Ravella':[1,1,1,1]}\n",
    "        >>> policy_compare('Fox-Epstein','Ravella', voting_dict)\n",
    "        -2\n",
    "    \n",
    "    The code should correct compute dot-product even if the numbers are not all in {0,1,-1}.\n",
    "        >>> policy_compare('A', 'B', {'A':[100,10,1], 'B':[2,5,3]})\n",
    "        253\n",
    "        \n",
    "    You should definitely try to write this in one line.\n",
    "    \"\"\"\n",
    "    return sum([sa * sb for sa, sb in zip(voting_dict[sen_a], voting_dict[sen_b])])"
   ]
  },
  {
   "cell_type": "code",
   "execution_count": 5,
   "metadata": {},
   "outputs": [],
   "source": [
    "## 3: (Task 2.12.3) Most Similar\n",
    "def most_similar(sen, voting_dict):\n",
    "    \"\"\"\n",
    "    Input: the last name of a senator, and a dictionary mapping senator names\n",
    "           to lists representing their voting records.\n",
    "    Output: the last name of the senator whose political mindset is most\n",
    "            like the input senator (excluding, of course, the input senator\n",
    "            him/herself). Resolve ties arbitrarily.\n",
    "    Example:\n",
    "        >>> vd = {'Klein': [1,1,1], 'Fox-Epstein': [1,-1,0], 'Ravella': [-1,0,0]}\n",
    "        >>> most_similar('Klein', vd)\n",
    "        'Fox-Epstein'\n",
    "        >>> vd == {'Klein': [1,1,1], 'Fox-Epstein': [1,-1,0], 'Ravella': [-1,0,0]}\n",
    "        True\n",
    "        >>> vd = {'a': [1,1,1], 'b': [1,-1,0], 'c': [-1,0,0], 'd': [-1,0,0], 'e': [1, 0, 0]}\n",
    "        >>> most_similar('c', vd)\n",
    "        'd'\n",
    "\n",
    "    Note that you can (and are encouraged to) re-use your policy_compare procedure.\n",
    "    \"\"\"\n",
    "    max_number = -float(\"infinity\")\n",
    "    result = \"\"\n",
    "    for name in voting_dict.keys():\n",
    "        if name != sen and max_number <= policy_compare(name, sen, voting_dict):\n",
    "            max_number = policy_compare(name, sen, voting_dict)\n",
    "            result = name\n",
    "    return result"
   ]
  },
  {
   "cell_type": "code",
   "execution_count": 6,
   "metadata": {},
   "outputs": [],
   "source": [
    "## 4: (Task 2.12.4) Least Similar\n",
    "def least_similar(sen, voting_dict):\n",
    "    \"\"\"\n",
    "    Input: the last name of a senator, and a dictionary mapping senator names\n",
    "           to lists representing their voting records.\n",
    "    Output: the last name of the senator whose political mindset is least like the input\n",
    "            senator.\n",
    "    Example:\n",
    "        >>> vd = {'a': [1,1,1], 'b': [1,-1,0], 'c': [-1,0,0]}\n",
    "        >>> least_similar('a', vd)\n",
    "        'c'\n",
    "        >>> vd == {'a': [1,1,1], 'b': [1,-1,0], 'c': [-1,0,0]}\n",
    "        True\n",
    "        >>> vd = {'a': [-1,0,0], 'b': [1,0,0], 'c': [-1,0,0]}\n",
    "        >>> least_similar('c', vd)\n",
    "        'b'\n",
    "    \"\"\"\n",
    "    min_number = float(\"infinity\")\n",
    "    result = \"\"\n",
    "    for name in voting_dict.keys():\n",
    "        if name != sen and min_number > policy_compare(name, sen, voting_dict):\n",
    "            min_number = policy_compare(name, sen, voting_dict)\n",
    "            result = name\n",
    "    return result"
   ]
  },
  {
   "cell_type": "code",
   "execution_count": 7,
   "metadata": {},
   "outputs": [
    {
     "name": "stdout",
     "output_type": "stream",
     "text": [
      "Jeffords\n",
      "Feingold\n"
     ]
    }
   ],
   "source": [
    "## 5: (Task 2.12.5) Chafee, Santorum\n",
    "most_like_chafee = most_similar(\"Chafee\", vd)\n",
    "least_like_santorum = least_similar(\"Santorum\", vd)\n",
    "print(most_like_chafee)\n",
    "print(least_like_santorum)"
   ]
  },
  {
   "cell_type": "code",
   "execution_count": 8,
   "metadata": {},
   "outputs": [],
   "source": [
    "## 6: (Task 2.12.7) Most Average Democrat\n",
    "def find_average_similarity(sen, sen_set, voting_dict):\n",
    "    \"\"\"\n",
    "    Input: the name of a senator, a set of senator names, and a voting dictionary.\n",
    "    Output: the average dot-product between sen and those in sen_set.\n",
    "    Example:\n",
    "        >>> vd = {'Klein':[1,1,1], 'Fox-Epstein':[1,-1,0], 'Ravella':[-1,0,0], 'Oyakawa':[-1,-1,-1], 'Loery':[0,1,1]}\n",
    "        >>> sens = {'Fox-Epstein','Ravella','Oyakawa','Loery'}\n",
    "        >>> find_average_similarity('Klein', sens, vd)\n",
    "        -0.5\n",
    "        >>> sens == {'Fox-Epstein','Ravella', 'Oyakawa', 'Loery'}\n",
    "        True\n",
    "        >>> vd == {'Klein':[1,1,1], 'Fox-Epstein':[1,-1,0], 'Ravella':[-1,0,0], 'Oyakawa':[-1,-1,-1], 'Loery':[0,1,1]}\n",
    "        True\n",
    "    \"\"\"\n",
    "    return sum([policy_compare(sen, name, voting_dict) for name in sen_set]) / len(sen_set)"
   ]
  },
  {
   "cell_type": "code",
   "execution_count": 9,
   "metadata": {},
   "outputs": [
    {
     "name": "stdout",
     "output_type": "stream",
     "text": [
      "Biden\n"
     ]
    }
   ],
   "source": [
    "# give the last name (or code that computes the last name)\n",
    "most_average_Democrat = \"\"\n",
    "max_number = -float(\"infinity\")\n",
    "sen_set = {info.split()[0] for info in mylist if info.split()[1] == \"D\"}\n",
    "for name in vd.keys():\n",
    "    if max_number <= find_average_similarity(name, sen_set, vd):\n",
    "        max_number = find_average_similarity(name, sen_set, vd)\n",
    "        most_average_Democrat = name\n",
    "print(most_average_Democrat)"
   ]
  },
  {
   "cell_type": "code",
   "execution_count": 17,
   "metadata": {},
   "outputs": [],
   "source": [
    "# 7: (Task 2.12.8) Average Record\n",
    "def find_average_record(sen_set, voting_dict):\n",
    "    \"\"\"\n",
    "    Input: a set of last names, a voting dictionary\n",
    "    Output: a vector containing the average components of the voting records\n",
    "            of the senators in the input set\n",
    "    Example: \n",
    "        >>> voting_dict = {'Klein': [-1,0,1], 'Fox-Epstein': [-1,-1,-1], 'Ravella': [0,0,1]}\n",
    "        >>> senators = {'Fox-Epstein','Ravella'}\n",
    "        >>> find_average_record(senators, voting_dict)\n",
    "        [-0.5, -0.5, 0.0]\n",
    "        >>> voting_dict == {'Klein': [-1,0,1], 'Fox-Epstein': [-1,-1,-1], 'Ravella': [0,0,1]}\n",
    "        True\n",
    "        >>> senators\n",
    "        {'Fox-Epstein','Ravella'}\n",
    "        >>> d = {'c': [-1,-1,0], 'b': [0,1,1], 'a': [0,1,1], 'e': [-1,-1,1], 'd': [-1,1,1]}\n",
    "        >>> find_average_record({'a','c','e'}, d)\n",
    "        [-0.6666666666666666, -0.3333333333333333, 0.6666666666666666]\n",
    "        >>> find_average_record({'a','c','e','b'}, d)\n",
    "        [-0.5, 0.0, 0.75]\n",
    "        >>> find_average_record({'a'}, d)\n",
    "        [0.0, 1.0, 1.0]\n",
    "    \"\"\"\n",
    "    senRec = [voting_dict[name] for name in sen_set]\n",
    "    return [sum(x) / len(sen_set) for x in zip(*senRec)]"
   ]
  },
  {
   "cell_type": "code",
   "execution_count": 24,
   "metadata": {
    "scrolled": true
   },
   "outputs": [
    {
     "name": "stdout",
     "output_type": "stream",
     "text": [
      "[-0.16279069767441862, -0.23255813953488372, 1.0, 0.8372093023255814, 0.9767441860465116, -0.13953488372093023, -0.9534883720930233, 0.813953488372093, 0.9767441860465116, 0.9767441860465116, 0.9069767441860465, 0.7674418604651163, 0.6744186046511628, 0.9767441860465116, -0.5116279069767442, 0.9302325581395349, 0.9534883720930233, 0.9767441860465116, -0.3953488372093023, 0.9767441860465116, 1.0, 1.0, 1.0, 0.9534883720930233, -0.4883720930232558, 1.0, -0.32558139534883723, -0.06976744186046512, 0.9767441860465116, 0.8604651162790697, 0.9767441860465116, 0.9767441860465116, 1.0, 1.0, 0.9767441860465116, -0.3488372093023256, 0.9767441860465116, -0.4883720930232558, 0.23255813953488372, 0.8837209302325582, 0.4418604651162791, 0.9069767441860465, -0.9069767441860465, 1.0, 0.9069767441860465, -0.3023255813953488]\n"
     ]
    }
   ],
   "source": [
    "# give the record (or code that computes the record)\n",
    "average_record = find_average_record(sen_set, vd)\n",
    "print(average_record)"
   ]
  },
  {
   "cell_type": "code",
   "execution_count": 25,
   "metadata": {},
   "outputs": [],
   "source": [
    "## 8: (Task 2.12.9) Bitter Rivals\n",
    "def bitter_rivals(voting_dict):\n",
    "    \"\"\"\n",
    "    Input: a dictionary mapping senator names to lists representing\n",
    "           their voting records\n",
    "    Output: a tuple containing the two senators who most strongly\n",
    "            disagree with one another.\n",
    "    Example: \n",
    "        >>> voting_dict = {'Klein': [-1,0,1], 'Fox-Epstein': [-1,-1,-1], 'Ravella': [0,0,1]}\n",
    "        >>> br = bitter_rivals(voting_dict)\n",
    "        >>> br == ('Fox-Epstein', 'Ravella') or br == ('Ravella', 'Fox-Epstein')\n",
    "        True\n",
    "    \"\"\"\n",
    "    rivals = [\"\", \"\"]\n",
    "    min_number = float(\"infinity\")\n",
    "    for sen_a in voting_dict.keys():\n",
    "        for sen_b in voting_dict.keys():\n",
    "            if sen_a != sen_b and min_number >= policy_compare(sen_a, sen_b, voting_dict):\n",
    "                min_number = policy_compare(sen_a, sen_b, voting_dict)\n",
    "                rivals[0], rivals[1] = sen_a, sen_b\n",
    "    return tuple(rivals)"
   ]
  },
  {
   "cell_type": "code",
   "execution_count": 26,
   "metadata": {},
   "outputs": [
    {
     "name": "stdout",
     "output_type": "stream",
     "text": [
      "('Inhofe', 'Feingold')\n"
     ]
    }
   ],
   "source": [
    "# give the bitter rivals\n",
    "bitter_rivals = bitter_rivals(vd)\n",
    "print(bitter_rivals)"
   ]
  }
 ],
 "metadata": {
  "kernelspec": {
   "display_name": "Python 3",
   "language": "python",
   "name": "python3"
  },
  "language_info": {
   "codemirror_mode": {
    "name": "ipython",
    "version": 3
   },
   "file_extension": ".py",
   "mimetype": "text/x-python",
   "name": "python",
   "nbconvert_exporter": "python",
   "pygments_lexer": "ipython3",
   "version": "3.7.1"
  }
 },
 "nbformat": 4,
 "nbformat_minor": 2
}
